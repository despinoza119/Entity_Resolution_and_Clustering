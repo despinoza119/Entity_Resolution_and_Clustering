{
 "cells": [
  {
   "cell_type": "markdown",
   "id": "e92342cd-655a-4d92-a79d-4889f36926a4",
   "metadata": {},
   "source": [
    "<div style=\"text-align:center\">\n",
    "    <h2>Record Linkage: Exploration Data Analysis</h2>\n",
    "</div>\n"
   ]
  },
  {
   "cell_type": "markdown",
   "id": "dc712834-8ccd-4d11-93eb-4e3ecf0b2285",
   "metadata": {},
   "source": [
    "As we could see in the project's readme, the first two steps, \"blocking\" and \"block processing,\" have already been completed earlier since the goal of this project is to perform entity resolution and clustering. Therefore, in the data exploration, we will focus on selecting the most suitable/useful column for the comparison."
   ]
  },
  {
   "cell_type": "markdown",
   "id": "0fc4d503-68a6-4f41-b652-d0a72000bb34",
   "metadata": {},
   "source": [
    "Import libraries"
   ]
  },
  {
   "cell_type": "code",
   "execution_count": 1,
   "id": "2964de51-9ff2-4fe7-aea8-42a6b0dc7804",
   "metadata": {},
   "outputs": [],
   "source": [
    "import pandas as pd\n",
    "import numpy as np"
   ]
  },
  {
   "cell_type": "markdown",
   "id": "5cb64b93-8dd9-43d0-b8ca-2a8b2aa748af",
   "metadata": {},
   "source": [
    "First, we read the .csv files for each retail A and B."
   ]
  },
  {
   "cell_type": "code",
   "execution_count": 2,
   "id": "79fc9623-05ca-4c17-b14f-51f10e668b26",
   "metadata": {},
   "outputs": [],
   "source": [
    "retA = pd.read_csv('retailerA.csv')\n",
    "retB = pd.read_csv('retailerB.csv')"
   ]
  },
  {
   "cell_type": "markdown",
   "id": "389edc6b-de29-41b1-91ba-633ba92eba49",
   "metadata": {},
   "source": [
    "**DataFrame Size**"
   ]
  },
  {
   "cell_type": "markdown",
   "id": "42857973-8cd5-4520-9413-6a85b3592ea7",
   "metadata": {},
   "source": [
    "We check the size of both dataframes"
   ]
  },
  {
   "cell_type": "code",
   "execution_count": 13,
   "id": "a2e10fcc-7bea-4455-8ac5-0bd1fc0a7f89",
   "metadata": {},
   "outputs": [
    {
     "name": "stdout",
     "output_type": "stream",
     "text": [
      "[Retailer A] Rows: 1081 - Columns: 4\n",
      "[Retailer B] Rows: 1092 - Columns: 4\n"
     ]
    }
   ],
   "source": [
    "print(f'[Retailer A] Rows: {retA.shape[0]} - Columns: {retA.shape[1]}')\n",
    "print(f'[Retailer B] Rows: {retB.shape[0]} - Columns: {retB.shape[1]}')"
   ]
  },
  {
   "cell_type": "markdown",
   "id": "8969ceca-774c-4b34-8c3c-cba1180b3653",
   "metadata": {},
   "source": [
    "We can see that we have 11 more samples in the Retailer A that in B"
   ]
  },
  {
   "cell_type": "markdown",
   "id": "91de2a41-fc36-4119-a191-d66a2b3655f2",
   "metadata": {},
   "source": [
    "**Data Type**"
   ]
  },
  {
   "cell_type": "markdown",
   "id": "8fdc77d2-e5d6-441e-a62c-ddefb54625f0",
   "metadata": {},
   "source": [
    "| Variable | Datatype | Description |\n",
    "|----------|----------|----------|\n",
    "| unique_id | Identifier | int64 |\n",
    "| title | Name of the article | string |\n",
    "| description | Description of the article | string |\n",
    "| price | Price in dollars ($) | string |"
   ]
  },
  {
   "cell_type": "markdown",
   "id": "f28ae1af-e526-4dd2-b950-ac76dd217828",
   "metadata": {},
   "source": [
    "**Data Inspection**"
   ]
  },
  {
   "cell_type": "code",
   "execution_count": 16,
   "id": "5369d5b1-ce29-4cec-a7d0-084c04d0b9a1",
   "metadata": {},
   "outputs": [
    {
     "data": {
      "text/html": [
       "<div>\n",
       "<style scoped>\n",
       "    .dataframe tbody tr th:only-of-type {\n",
       "        vertical-align: middle;\n",
       "    }\n",
       "\n",
       "    .dataframe tbody tr th {\n",
       "        vertical-align: top;\n",
       "    }\n",
       "\n",
       "    .dataframe thead th {\n",
       "        text-align: right;\n",
       "    }\n",
       "</style>\n",
       "<table border=\"1\" class=\"dataframe\">\n",
       "  <thead>\n",
       "    <tr style=\"text-align: right;\">\n",
       "      <th></th>\n",
       "      <th>unique_id</th>\n",
       "      <th>title</th>\n",
       "      <th>description</th>\n",
       "      <th>price</th>\n",
       "    </tr>\n",
       "  </thead>\n",
       "  <tbody>\n",
       "    <tr>\n",
       "      <th>0</th>\n",
       "      <td>1</td>\n",
       "      <td>Linksys EtherFast 8-Port 10/100 Switch - EZXS88W</td>\n",
       "      <td>Linksys EtherFast 8-Port 10/100 Switch - EZXS8...</td>\n",
       "      <td>$44.00</td>\n",
       "    </tr>\n",
       "    <tr>\n",
       "      <th>1</th>\n",
       "      <td>2</td>\n",
       "      <td>Linksys EtherFast10/100 5-Port Auto-Sensing Sw...</td>\n",
       "      <td>Linksys EtherFast10/100 5-Port Auto-Sensing Sw...</td>\n",
       "      <td>$29.00</td>\n",
       "    </tr>\n",
       "    <tr>\n",
       "      <th>2</th>\n",
       "      <td>3</td>\n",
       "      <td>Netgear ProSafe 5 Port 10/100 Desktop Switch -...</td>\n",
       "      <td>Netgear ProSafe 5 Port 10/100 Desktop Switch -...</td>\n",
       "      <td>$40.00</td>\n",
       "    </tr>\n",
       "    <tr>\n",
       "      <th>3</th>\n",
       "      <td>4</td>\n",
       "      <td>Belkin F3H982-10 Pro Series High Integrity 10 ...</td>\n",
       "      <td>Belkin F3H982-10 Pro Series High Integrity 10 ...</td>\n",
       "      <td>NaN</td>\n",
       "    </tr>\n",
       "    <tr>\n",
       "      <th>4</th>\n",
       "      <td>5</td>\n",
       "      <td>Netgear Prosafe 16 Port 10/100 Rackmount Switc...</td>\n",
       "      <td>Netgear Prosafe 16 Port 10/100 Rackmount Switc...</td>\n",
       "      <td>$131.00</td>\n",
       "    </tr>\n",
       "  </tbody>\n",
       "</table>\n",
       "</div>"
      ],
      "text/plain": [
       "   unique_id                                              title  \\\n",
       "0          1   Linksys EtherFast 8-Port 10/100 Switch - EZXS88W   \n",
       "1          2  Linksys EtherFast10/100 5-Port Auto-Sensing Sw...   \n",
       "2          3  Netgear ProSafe 5 Port 10/100 Desktop Switch -...   \n",
       "3          4  Belkin F3H982-10 Pro Series High Integrity 10 ...   \n",
       "4          5  Netgear Prosafe 16 Port 10/100 Rackmount Switc...   \n",
       "\n",
       "                                         description    price  \n",
       "0  Linksys EtherFast 8-Port 10/100 Switch - EZXS8...   $44.00  \n",
       "1  Linksys EtherFast10/100 5-Port Auto-Sensing Sw...   $29.00  \n",
       "2  Netgear ProSafe 5 Port 10/100 Desktop Switch -...   $40.00  \n",
       "3  Belkin F3H982-10 Pro Series High Integrity 10 ...      NaN  \n",
       "4  Netgear Prosafe 16 Port 10/100 Rackmount Switc...  $131.00  "
      ]
     },
     "execution_count": 16,
     "metadata": {},
     "output_type": "execute_result"
    }
   ],
   "source": [
    "retA.head(5)"
   ]
  },
  {
   "cell_type": "code",
   "execution_count": 17,
   "id": "96898e4b-d7f9-409c-8a48-d2f945d9ab00",
   "metadata": {},
   "outputs": [
    {
     "data": {
      "text/html": [
       "<div>\n",
       "<style scoped>\n",
       "    .dataframe tbody tr th:only-of-type {\n",
       "        vertical-align: middle;\n",
       "    }\n",
       "\n",
       "    .dataframe tbody tr th {\n",
       "        vertical-align: top;\n",
       "    }\n",
       "\n",
       "    .dataframe thead th {\n",
       "        text-align: right;\n",
       "    }\n",
       "</style>\n",
       "<table border=\"1\" class=\"dataframe\">\n",
       "  <thead>\n",
       "    <tr style=\"text-align: right;\">\n",
       "      <th></th>\n",
       "      <th>unique_id</th>\n",
       "      <th>title</th>\n",
       "      <th>description</th>\n",
       "      <th>price</th>\n",
       "    </tr>\n",
       "  </thead>\n",
       "  <tbody>\n",
       "    <tr>\n",
       "      <th>0</th>\n",
       "      <td>1</td>\n",
       "      <td>Linksys EtherFast EZXS88W Ethernet Switch - EZ...</td>\n",
       "      <td>Linksys EtherFast 8-Port 10/100 Switch (New/Wo...</td>\n",
       "      <td>NaN</td>\n",
       "    </tr>\n",
       "    <tr>\n",
       "      <th>1</th>\n",
       "      <td>2</td>\n",
       "      <td>Linksys EtherFast EZXS55W Ethernet Switch</td>\n",
       "      <td>5 x 10/100Base-TX LAN</td>\n",
       "      <td>NaN</td>\n",
       "    </tr>\n",
       "    <tr>\n",
       "      <th>2</th>\n",
       "      <td>3</td>\n",
       "      <td>Netgear ProSafe FS105 Ethernet Switch - FS105NA</td>\n",
       "      <td>NETGEAR FS105 Prosafe 5 Port 10/100 Desktop Sw...</td>\n",
       "      <td>NaN</td>\n",
       "    </tr>\n",
       "    <tr>\n",
       "      <th>3</th>\n",
       "      <td>4</td>\n",
       "      <td>Belkin Pro Series High Integrity VGA/SVGA Moni...</td>\n",
       "      <td>1 x HD-15 - 1 x HD-15 - 10ft - Beige</td>\n",
       "      <td>NaN</td>\n",
       "    </tr>\n",
       "    <tr>\n",
       "      <th>4</th>\n",
       "      <td>5</td>\n",
       "      <td>Netgear ProSafe JFS516 Ethernet Switch</td>\n",
       "      <td>Netgear ProSafe 16 Port 10/100 Rackmount Switc...</td>\n",
       "      <td>NaN</td>\n",
       "    </tr>\n",
       "  </tbody>\n",
       "</table>\n",
       "</div>"
      ],
      "text/plain": [
       "   unique_id                                              title  \\\n",
       "0          1  Linksys EtherFast EZXS88W Ethernet Switch - EZ...   \n",
       "1          2          Linksys EtherFast EZXS55W Ethernet Switch   \n",
       "2          3    Netgear ProSafe FS105 Ethernet Switch - FS105NA   \n",
       "3          4  Belkin Pro Series High Integrity VGA/SVGA Moni...   \n",
       "4          5             Netgear ProSafe JFS516 Ethernet Switch   \n",
       "\n",
       "                                         description price  \n",
       "0  Linksys EtherFast 8-Port 10/100 Switch (New/Wo...   NaN  \n",
       "1                              5 x 10/100Base-TX LAN   NaN  \n",
       "2  NETGEAR FS105 Prosafe 5 Port 10/100 Desktop Sw...   NaN  \n",
       "3               1 x HD-15 - 1 x HD-15 - 10ft - Beige   NaN  \n",
       "4  Netgear ProSafe 16 Port 10/100 Rackmount Switc...   NaN  "
      ]
     },
     "execution_count": 17,
     "metadata": {},
     "output_type": "execute_result"
    }
   ],
   "source": [
    "retB.head(5)"
   ]
  },
  {
   "cell_type": "markdown",
   "id": "2054c7f3-c589-4846-989c-579baafc4b86",
   "metadata": {},
   "source": [
    "**Missing Values**"
   ]
  },
  {
   "cell_type": "code",
   "execution_count": 18,
   "id": "1142cfc9-d971-416e-ae49-85cfdd913d67",
   "metadata": {},
   "outputs": [
    {
     "data": {
      "text/html": [
       "<div>\n",
       "<style scoped>\n",
       "    .dataframe tbody tr th:only-of-type {\n",
       "        vertical-align: middle;\n",
       "    }\n",
       "\n",
       "    .dataframe tbody tr th {\n",
       "        vertical-align: top;\n",
       "    }\n",
       "\n",
       "    .dataframe thead th {\n",
       "        text-align: right;\n",
       "    }\n",
       "</style>\n",
       "<table border=\"1\" class=\"dataframe\">\n",
       "  <thead>\n",
       "    <tr style=\"text-align: right;\">\n",
       "      <th></th>\n",
       "      <th>vacios</th>\n",
       "      <th>vacios%</th>\n",
       "    </tr>\n",
       "  </thead>\n",
       "  <tbody>\n",
       "    <tr>\n",
       "      <th>price</th>\n",
       "      <td>663</td>\n",
       "      <td>61.0</td>\n",
       "    </tr>\n",
       "    <tr>\n",
       "      <th>unique_id</th>\n",
       "      <td>0</td>\n",
       "      <td>0.0</td>\n",
       "    </tr>\n",
       "    <tr>\n",
       "      <th>title</th>\n",
       "      <td>0</td>\n",
       "      <td>0.0</td>\n",
       "    </tr>\n",
       "    <tr>\n",
       "      <th>description</th>\n",
       "      <td>0</td>\n",
       "      <td>0.0</td>\n",
       "    </tr>\n",
       "  </tbody>\n",
       "</table>\n",
       "</div>"
      ],
      "text/plain": [
       "             vacios  vacios%\n",
       "price           663     61.0\n",
       "unique_id         0      0.0\n",
       "title             0      0.0\n",
       "description       0      0.0"
      ]
     },
     "execution_count": 18,
     "metadata": {},
     "output_type": "execute_result"
    }
   ],
   "source": [
    "vacios = pd.DataFrame(retA.isnull().sum()).sort_values(0,ascending=False)\n",
    "vacios.columns = ['vacios']\n",
    "vacios['vacios%'] = round(vacios['vacios']/retA.shape[0], 2)*100\n",
    "vacios "
   ]
  },
  {
   "cell_type": "code",
   "execution_count": 19,
   "id": "aba1b225-fd83-4eb7-8a80-1965e4117ddb",
   "metadata": {},
   "outputs": [
    {
     "data": {
      "text/html": [
       "<div>\n",
       "<style scoped>\n",
       "    .dataframe tbody tr th:only-of-type {\n",
       "        vertical-align: middle;\n",
       "    }\n",
       "\n",
       "    .dataframe tbody tr th {\n",
       "        vertical-align: top;\n",
       "    }\n",
       "\n",
       "    .dataframe thead th {\n",
       "        text-align: right;\n",
       "    }\n",
       "</style>\n",
       "<table border=\"1\" class=\"dataframe\">\n",
       "  <thead>\n",
       "    <tr style=\"text-align: right;\">\n",
       "      <th></th>\n",
       "      <th>vacios</th>\n",
       "      <th>vacios%</th>\n",
       "    </tr>\n",
       "  </thead>\n",
       "  <tbody>\n",
       "    <tr>\n",
       "      <th>price</th>\n",
       "      <td>502</td>\n",
       "      <td>46.0</td>\n",
       "    </tr>\n",
       "    <tr>\n",
       "      <th>description</th>\n",
       "      <td>446</td>\n",
       "      <td>41.0</td>\n",
       "    </tr>\n",
       "    <tr>\n",
       "      <th>unique_id</th>\n",
       "      <td>0</td>\n",
       "      <td>0.0</td>\n",
       "    </tr>\n",
       "    <tr>\n",
       "      <th>title</th>\n",
       "      <td>0</td>\n",
       "      <td>0.0</td>\n",
       "    </tr>\n",
       "  </tbody>\n",
       "</table>\n",
       "</div>"
      ],
      "text/plain": [
       "             vacios  vacios%\n",
       "price           502     46.0\n",
       "description     446     41.0\n",
       "unique_id         0      0.0\n",
       "title             0      0.0"
      ]
     },
     "execution_count": 19,
     "metadata": {},
     "output_type": "execute_result"
    }
   ],
   "source": [
    "vacios = pd.DataFrame(retB.isnull().sum()).sort_values(0,ascending=False)\n",
    "vacios.columns = ['vacios']\n",
    "vacios['vacios%'] = round(vacios['vacios']/retB.shape[0], 2)*100\n",
    "vacios "
   ]
  },
  {
   "cell_type": "markdown",
   "id": "6684097c-cd1b-4f0a-aefa-6bcfe6a4eb8a",
   "metadata": {},
   "source": [
    "**Conclusions**"
   ]
  },
  {
   "cell_type": "markdown",
   "id": "fec060b7-b73d-4ef9-b9e5-416ccb8abd17",
   "metadata": {},
   "source": [
    "- The price column is not representative for making a similarity comparison since numerical monetary values do not describe a product. Additionally, it is a column with many null values.\n",
    "- The description column could be useful for comparison, but in retailer B, there are too many null values (41%), so we discard it for this reason.\n",
    "- We observe that in both dataframes, the title column is complete and contains information about product names. However, upon inspecting the data, we realize that these names are quite descriptive, so we consider them useful for matching."
   ]
  }
 ],
 "metadata": {
  "kernelspec": {
   "display_name": "Python 3 (ipykernel)",
   "language": "python",
   "name": "python3"
  },
  "language_info": {
   "codemirror_mode": {
    "name": "ipython",
    "version": 3
   },
   "file_extension": ".py",
   "mimetype": "text/x-python",
   "name": "python",
   "nbconvert_exporter": "python",
   "pygments_lexer": "ipython3",
   "version": "3.11.5"
  }
 },
 "nbformat": 4,
 "nbformat_minor": 5
}
